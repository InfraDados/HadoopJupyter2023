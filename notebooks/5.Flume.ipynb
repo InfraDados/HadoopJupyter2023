{
 "cells": [
  {
   "cell_type": "markdown",
   "metadata": {},
   "source": [
    "# Flume\n",
    "![Flume](https://flume.apache.org/_static/flume-logo.png)\n",
    "\n",
    "- https://flume.apache.org"
   ]
  },
  {
   "cell_type": "markdown",
   "metadata": {},
   "source": [
    "## Setup\n",
    "\n",
    "- download from https://flume.apache.org/download.html\n",
    "- version 1.9.0"
   ]
  },
  {
   "cell_type": "code",
   "execution_count": null,
   "metadata": {},
   "outputs": [],
   "source": [
    "%%bash\n",
    "\n",
    "# Download package\n",
    "cd /opt/pkgs\n",
    "wget -q -c https://downloads.apache.org/flume/1.9.0/apache-flume-1.9.0-bin.tar.gz\n",
    "\n",
    "# unpack file and create link\n",
    "tar -zxf /opt/pkgs/apache-flume-1.9.0-bin.tar.gz -C /opt\n",
    "ln -s /opt/apache-flume-1.9.0-bin /opt/flume\n",
    "\n",
    "# update guava library on Flume\n",
    "rm -f /opt/flume/lib/guava-11.0.2.jar \n",
    "cp -f /opt/hadoop/share/hadoop/common/lib/guava-27.0-jre.jar /opt/flume/lib\n",
    "\n",
    "# update envvars.sh\n",
    "cat >> /opt/envvars.sh << EOF\n",
    "# Flume\n",
    "export FLUME_HOME=/opt/flume\n",
    "export PATH=\\${PATH}:\\${FLUME_HOME}/bin\n",
    "\n",
    "EOF\n",
    "\n",
    "cat /opt/envvars.sh"
   ]
  },
  {
   "cell_type": "code",
   "execution_count": null,
   "metadata": {},
   "outputs": [],
   "source": [
    "# Load environment variables\n",
    "%load_ext dotenv\n",
    "%dotenv -o /opt/envvars.sh\n",
    "%env"
   ]
  },
  {
   "cell_type": "markdown",
   "metadata": {},
   "source": [
    "## Tailagent example\n",
    "\n",
    "- https://flume.apache.org/releases/content/1.9.0/FlumeUserGuide.html"
   ]
  },
  {
   "cell_type": "code",
   "execution_count": null,
   "metadata": {},
   "outputs": [],
   "source": [
    "%%writefile /opt/flume/conf/tailagent.conf\n",
    "# Agent components\n",
    "tailagent.sources = execsource\n",
    "tailagent.channels = memchannel\n",
    "tailagent.sinks = hdfssink\n",
    "\n",
    "# Configuring source\n",
    "tailagent.sources.execsource.type = exec\n",
    "tailagent.sources.execsource.command = tail -F /tmp/events\n",
    "\n",
    "# Configuring sink\n",
    "tailagent.sinks.hdfssink.type = hdfs\n",
    "tailagent.sinks.hdfssink.hdfs.path = /tmp\n",
    "tailagent.sinks.hdfssink.hdfs.filePrefix = tailevents-\n",
    "tailagent.sinks.hdfssink.hdfs.fileType = DataStream\n",
    "\n",
    "# Configuring channel\n",
    "tailagent.channels.memchannel.type = memory\n",
    "\n",
    "# Bind the source and sink to the channel \n",
    "tailagent.sources.execsource.channels = memchannel\n",
    "tailagent.sinks.hdfssink.channel = memchannel"
   ]
  },
  {
   "cell_type": "code",
   "execution_count": null,
   "metadata": {},
   "outputs": [],
   "source": [
    "%%bash\n",
    "\n",
    "# run agent in background\n",
    "cd /opt/flume\n",
    "\n",
    "flume-ng agent -n tailagent -c ./conf \\\n",
    "-f ./conf/tailagent.conf > ./tailagent.output 2>&1 &\n",
    "echo $! > ./tailagent.pid\n",
    "\n",
    "ps -fp $(cat ./tailagent.pid)"
   ]
  },
  {
   "cell_type": "code",
   "execution_count": null,
   "metadata": {},
   "outputs": [],
   "source": [
    "%%bash\n",
    "\n",
    "# run random generator in background\n",
    "cd /opt/flume\n",
    "\n",
    "cat > randomgen.sh << EOF\n",
    "while true\n",
    "do\n",
    "    echo \\${RANDOM} >> /tmp/events\n",
    "    sleep 1\n",
    "done\n",
    "EOF\n",
    "\n",
    "chmod +x randomgen.sh\n",
    "./randomgen.sh > /dev/null 2>&1 &\n",
    "echo $! > ./randomgen.pid\n",
    "\n",
    "ps -fp $(cat ./randomgen.pid)"
   ]
  },
  {
   "cell_type": "code",
   "execution_count": null,
   "metadata": {},
   "outputs": [],
   "source": [
    "%%bash\n",
    "\n",
    "# check files generated in HDFS\n",
    "hdfs dfs -ls /tmp/tailevents*"
   ]
  },
  {
   "cell_type": "code",
   "execution_count": null,
   "metadata": {},
   "outputs": [],
   "source": [
    "%%bash\n",
    "\n",
    "# cat files\n",
    "hdfs dfs -cat /tmp/tailevents*"
   ]
  },
  {
   "cell_type": "code",
   "execution_count": null,
   "metadata": {},
   "outputs": [],
   "source": [
    "%%bash\n",
    "\n",
    "cd /opt/flume\n",
    "\n",
    "# kill random generator\n",
    "kill $(cat randomgen.pid)\n",
    "rm randomgen.pid\n",
    "\n",
    "# kill tailagent\n",
    "kill $(cat tailagent.pid)\n",
    "rm tailagent.pid\n",
    "rm tailagent.output\n",
    "\n",
    "# remove files\n",
    "hdfs dfs -rm /tmp/tailevents*"
   ]
  },
  {
   "cell_type": "code",
   "execution_count": null,
   "metadata": {},
   "outputs": [],
   "source": []
  }
 ],
 "metadata": {
  "kernelspec": {
   "display_name": "Python 3",
   "language": "python",
   "name": "python3"
  },
  "language_info": {
   "codemirror_mode": {
    "name": "ipython",
    "version": 3
   },
   "file_extension": ".py",
   "mimetype": "text/x-python",
   "name": "python",
   "nbconvert_exporter": "python",
   "pygments_lexer": "ipython3",
   "version": "3.6.9"
  }
 },
 "nbformat": 4,
 "nbformat_minor": 4
}
