{
 "cells": [
  {
   "cell_type": "code",
   "execution_count": null,
   "metadata": {},
   "outputs": [],
   "source": [
    "%load_ext dockermagic"
   ]
  },
  {
   "cell_type": "markdown",
   "metadata": {},
   "source": [
    "# Sqoop\n",
    "![Sqoop](https://sqoop.apache.org/images/sqoop-logo.png)\n",
    "\n",
    "- https://sqoop.apache.org/"
   ]
  },
  {
   "cell_type": "markdown",
   "metadata": {},
   "source": [
    "## Setup\n",
    "\n",
    "- download from https://archive.apache.org/dist/sqoop/1.4.7/\n",
    "- version 1.4.7"
   ]
  },
  {
   "cell_type": "code",
   "execution_count": null,
   "metadata": {},
   "outputs": [],
   "source": [
    "%%dockerexec hadoop\n",
    "\n",
    "source /opt/envvars.sh\n",
    "\n",
    "# Download package\n",
    "mkdir /opt/pkgs\n",
    "cd /opt/pkgs\n",
    "# wget -q -c https://downloads.apache.org/sqoop/1.4.7/sqoop-1.4.7.bin__hadoop-2.6.0.tar.gz\n",
    "wget -q -c http://archive.apache.org/dist/sqoop/1.4.7/sqoop-1.4.7.bin__hadoop-2.6.0.tar.gz\n",
    "    \n",
    "# unpack file and create link\n",
    "tar -zxf sqoop-1.4.7.bin__hadoop-2.6.0.tar.gz -C /opt\n",
    "ln -s /opt/sqoop-1.4.7.bin__hadoop-2.6.0 /opt/sqoop\n",
    "\n",
    "# update commons-lang\n",
    "rm /opt/sqoop/lib/commons-lang3-3.4.jar\n",
    "cp /opt/hadoop/share/hadoop/yarn/timelineservice/lib/commons-lang-2.6.jar /opt/sqoop/lib\n",
    "\n",
    "# update envvars.sh\n",
    "cat >> /opt/envvars.sh << EOF\n",
    "# Sqoop\n",
    "export SQOOP_HOME=/opt/sqoop\n",
    "export PATH=\\${PATH}:\\${SQOOP_HOME}/bin\n",
    "\n",
    "EOF\n",
    "\n",
    "cat /opt/envvars.sh"
   ]
  },
  {
   "cell_type": "markdown",
   "metadata": {},
   "source": [
    "### Mysql-connector\n",
    "\n",
    "- https://dev.mysql.com/downloads/connector/j/"
   ]
  },
  {
   "cell_type": "code",
   "execution_count": null,
   "metadata": {},
   "outputs": [],
   "source": [
    "%%dockerexec hadoop\n",
    "\n",
    "# Download package\n",
    "cd /opt/pkgs\n",
    "wget -q -c https://downloads.mysql.com/archives/get/p/3/file/mysql-connector-j_8.0.33-1ubuntu20.04_all.deb\n",
    "    \n",
    "sudo dpkg -i mysql-connector-j_8.0.33-1ubuntu20.04_all.deb\n",
    "\n",
    "cp /usr/share/java/mysql-connector-java-8.0.33.jar /opt/sqoop/lib"
   ]
  },
  {
   "cell_type": "markdown",
   "metadata": {},
   "source": [
    "## Mysql installation"
   ]
  },
  {
   "cell_type": "code",
   "execution_count": null,
   "metadata": {},
   "outputs": [],
   "source": [
    "%%dockerexec hadoop\n",
    "\n",
    "# sudo apt update\n",
    "# sudo apt install -qq -y mysql-server unzip >> /tmp/install.log 2>&1\n",
    "\n",
    "# Enable external access (from worker nodes)\n",
    "sudo sed -i \"s/^bind-address/#bind-address/g\" /etc/mysql/mysql.conf.d/mysqld.cnf \n",
    "\n",
    "sudo service mysql restart\n",
    "sudo service mysql status"
   ]
  },
  {
   "cell_type": "code",
   "execution_count": null,
   "metadata": {},
   "outputs": [],
   "source": [
    "%%dockerexec hadoop\n",
    "\n",
    "# create hadoop user\n",
    "sudo mysql -e \"create user 'hadoop'@'%' IDENTIFIED BY ''\"\n",
    "sudo mysql -e \"grant all privileges on *.* to 'hadoop'@'%' WITH GRANT OPTION\"\n",
    "sudo mysql -e \"flush privileges\"\n"
   ]
  },
  {
   "cell_type": "markdown",
   "metadata": {},
   "source": [
    "## Employees database setup"
   ]
  },
  {
   "cell_type": "code",
   "execution_count": null,
   "metadata": {},
   "outputs": [],
   "source": [
    "%%dockerexec hadoop\n",
    "\n",
    "# Download EmployeesDB sample database\n",
    "cd /opt/pkgs\n",
    "wget -q -c https://github.com/datacharmer/test_db/archive/master.zip\n",
    "\n",
    "unzip master.zip\n",
    "\n",
    "cd test_db-master\n",
    "\n",
    "mysql -u hadoop -h hadoop < employees.sql"
   ]
  },
  {
   "cell_type": "markdown",
   "metadata": {},
   "source": [
    "## Explore database"
   ]
  },
  {
   "cell_type": "code",
   "execution_count": null,
   "metadata": {},
   "outputs": [],
   "source": [
    "%%dockerexec hadoop\n",
    "\n",
    "mysql -u hadoop -h hadoop -e 'show databases'\n",
    "\n",
    "printf \"\\n%40s\\n\\n\" | tr ' ' '='\n",
    "\n",
    "mysql -u hadoop -h hadoop -D employees -e 'show tables'\n",
    "\n",
    "printf \"\\n%40s\\n\\n\" | tr ' ' '='\n",
    "\n",
    "mysql -u hadoop -h hadoop -D employees -e 'describe employees'"
   ]
  },
  {
   "cell_type": "markdown",
   "metadata": {},
   "source": [
    "## Using sqoop"
   ]
  },
  {
   "cell_type": "code",
   "execution_count": null,
   "metadata": {},
   "outputs": [],
   "source": [
    "%%dockerexec hadoop\n",
    "\n",
    "source /opt/envvars.sh\n",
    "\n",
    "sqoop list-databases --connect jdbc:mysql://hadoop --username hadoop"
   ]
  },
  {
   "cell_type": "code",
   "execution_count": null,
   "metadata": {},
   "outputs": [],
   "source": [
    "%%dockerexec hadoop\n",
    "\n",
    "source /opt/envvars.sh\n",
    "\n",
    "sqoop list-tables --connect jdbc:mysql://hadoop/employees --username hadoop"
   ]
  },
  {
   "cell_type": "code",
   "execution_count": null,
   "metadata": {},
   "outputs": [],
   "source": [
    "%%dockerexec hadoop\n",
    "\n",
    "source /opt/envvars.sh\n",
    "\n",
    "sqoop import --connect jdbc:mysql://hadoop/employees --username hadoop --table employees"
   ]
  },
  {
   "cell_type": "code",
   "execution_count": null,
   "metadata": {},
   "outputs": [],
   "source": [
    "%%dockerexec hadoop\n",
    "\n",
    "source /opt/envvars.sh\n",
    "\n",
    "hdfs dfs -ls -h employees\n",
    "\n",
    "hdfs dfs -head employees/part-m-00000"
   ]
  },
  {
   "cell_type": "code",
   "execution_count": null,
   "metadata": {},
   "outputs": [],
   "source": [
    "%%dockerexec hadoop\n",
    "\n",
    "source /opt/envvars.sh\n",
    "\n",
    "rm employees.java\n",
    "\n",
    "# Stopping mysql\n",
    "sudo service mysql stop"
   ]
  }
 ],
 "metadata": {
  "kernelspec": {
   "display_name": "Python 3",
   "language": "python",
   "name": "python3"
  },
  "language_info": {
   "codemirror_mode": {
    "name": "ipython",
    "version": 3
   },
   "file_extension": ".py",
   "mimetype": "text/x-python",
   "name": "python",
   "nbconvert_exporter": "python",
   "pygments_lexer": "ipython3",
   "version": "3.9.7"
  }
 },
 "nbformat": 4,
 "nbformat_minor": 4
}
