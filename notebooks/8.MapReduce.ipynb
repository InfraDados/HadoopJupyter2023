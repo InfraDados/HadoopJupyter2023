{
 "cells": [
  {
   "cell_type": "code",
   "execution_count": 1,
   "metadata": {},
   "outputs": [],
   "source": [
    "%load_ext dockermagic"
   ]
  },
  {
   "cell_type": "markdown",
   "metadata": {},
   "source": [
    "# MapReduce"
   ]
  },
  {
   "cell_type": "markdown",
   "metadata": {},
   "source": [
    "## Java Map Reduce API - WordCount"
   ]
  },
  {
   "cell_type": "code",
   "execution_count": 2,
   "metadata": {},
   "outputs": [],
   "source": [
    "%%dockerexec hadoop\n",
    "\n",
    "mkdir -p /opt/src/wc_java\n",
    "\n",
    "cat <<EOF > /opt/src/wc_java/WordCountDriver.java\n",
    "// WordCountDriver.java\n",
    "import org.apache.hadoop.fs.Path;\n",
    "import org.apache.hadoop.io.IntWritable;\n",
    "import org.apache.hadoop.io.Text;\n",
    "import org.apache.hadoop.mapreduce.lib.input.FileInputFormat;\n",
    "import org.apache.hadoop.mapreduce.lib.output.FileOutputFormat;\n",
    "import org.apache.hadoop.mapreduce.Job;\n",
    "import org.apache.hadoop.conf.Configured;\n",
    "import org.apache.hadoop.conf.Configuration;\n",
    "import org.apache.hadoop.util.Tool;\n",
    "import org.apache.hadoop.util.ToolRunner;\n",
    "\n",
    "public class WordCountDriver extends Configured implements Tool {\n",
    "  public int run(String[] args) throws Exception {\n",
    "   if (args.length != 2) {\n",
    "    System.out.printf(\"Usage: %s [generic options] <inputdir> <outputdir>\\n\", getClass().getSimpleName());\n",
    "    return -1;\n",
    "   }\n",
    "\n",
    "   Job job = Job.getInstance(getConf(), \"Word Count\");\n",
    "   job.setJarByClass(WordCountDriver.class);\n",
    "   FileInputFormat.setInputPaths(job, new Path(args[0]));\n",
    "   FileOutputFormat.setOutputPath(job, new Path(args[1]));\n",
    "   job.setMapperClass(WordCountMapper.class);\n",
    "   job.setReducerClass(WordCountReducer.class);\n",
    "   job.setMapOutputKeyClass(Text.class);\n",
    "   job.setMapOutputValueClass(IntWritable.class);\n",
    "   job.setOutputKeyClass(Text.class);\n",
    "   job.setOutputValueClass(IntWritable.class);\n",
    "   boolean success = job.waitForCompletion(true);\n",
    "   return success ? 0 : 1;\n",
    " }\n",
    "\n",
    " public static void main(String[] args) throws Exception {\n",
    "   int exitCode = ToolRunner.run(new Configuration(), new WordCountDriver(), args);\n",
    "   System.exit(exitCode);\n",
    " }\n",
    "}\n",
    "EOF"
   ]
  },
  {
   "cell_type": "code",
   "execution_count": 9,
   "metadata": {},
   "outputs": [],
   "source": [
    "%%dockerexec hadoop\n",
    "\n",
    "cat <<EOF > /opt/src/wc_java/WordCountMapper.java\n",
    "import java.io.IOException;\n",
    "import org.apache.hadoop.io.IntWritable;\n",
    "import org.apache.hadoop.io.LongWritable;\n",
    "import org.apache.hadoop.io.Text;\n",
    "import org.apache.hadoop.mapreduce.Mapper;\n",
    "\n",
    "public class WordCountMapper extends Mapper<LongWritable, Text, Text, IntWritable>\n",
    "{\n",
    "  private final static IntWritable one = new IntWritable(1);\n",
    "  private Text wordObject = new Text();\n",
    "\n",
    "  @Override\n",
    "  public void map(LongWritable key, Text value, Context context)\n",
    "    throws IOException, InterruptedException {\n",
    "\n",
    "   String line = value.toString();\n",
    "   for (String word : line.split(\"\\\\\\W+\")) {\n",
    "    if (word.length() > 0) {\n",
    "     wordObject.set(word);\n",
    "     context.write(wordObject, one);\n",
    "    }\n",
    "   }\n",
    "  }\n",
    "}\n",
    "EOF"
   ]
  },
  {
   "cell_type": "code",
   "execution_count": 4,
   "metadata": {},
   "outputs": [],
   "source": [
    "%%dockerexec hadoop\n",
    "\n",
    "cat <<EOF > /opt/src/wc_java/WordCountReducer.java\n",
    "// WordCountReducer.java\n",
    "import java.io.IOException;\n",
    "import org.apache.hadoop.io.IntWritable;\n",
    "import org.apache.hadoop.io.Text;\n",
    "import org.apache.hadoop.mapreduce.Reducer;\n",
    "\n",
    "public class WordCountReducer extends Reducer<Text, IntWritable, Text, IntWritable>\n",
    "{\n",
    "  private IntWritable wordCountWritable = new IntWritable();\n",
    "  @Override\n",
    "   public void reduce(Text key, Iterable<IntWritable> values, Context context)\n",
    "             throws IOException, InterruptedException {\n",
    "         int wordCount = 0;\n",
    "         for (IntWritable value : values) {\n",
    "             wordCount += value.get();\n",
    "         }\n",
    "         wordCountWritable.set(wordCount);\n",
    "         context.write(key, wordCountWritable);\n",
    "    }\n",
    "}\n",
    "EOF"
   ]
  },
  {
   "cell_type": "code",
   "execution_count": 5,
   "metadata": {},
   "outputs": [
    {
     "name": "stdout",
     "output_type": "stream",
     "text": [
      "/opt/hadoop/etc/hadoop:/opt/hadoop/share/hadoop/common/lib/*:/opt/hadoop/share/hadoop/common/*:/opt/hadoop/share/hadoop/hdfs:/opt/hadoop/share/hadoop/hdfs/lib/*:/opt/hadoop/share/hadoop/hdfs/*:/opt/hadoop/share/hadoop/mapreduce/*:/opt/hadoop/share/hadoop/yarn:/opt/hadoop/share/hadoop/yarn/lib/*:/opt/hadoop/share/hadoop/yarn/*\n"
     ]
    }
   ],
   "source": [
    "%%dockerexec hadoop\n",
    "\n",
    "source /opt/envvars.sh\n",
    "\n",
    "hadoop classpath"
   ]
  },
  {
   "cell_type": "code",
   "execution_count": 10,
   "metadata": {},
   "outputs": [
    {
     "name": "stdout",
     "output_type": "stream",
     "text": [
      "added manifest\n",
      "adding: WordCountDriver.class(in = 2277) (out= 1104)(deflated 51%)\n",
      "adding: WordCountMapper.class(in = 1921) (out= 813)(deflated 57%)\n",
      "adding: WordCountReducer.class(in = 1711) (out= 719)(deflated 57%)\n",
      "WordCountDriver.class\n",
      "WordCountDriver.java\n",
      "WordCountMapper.class\n",
      "WordCountMapper.java\n",
      "WordCountReducer.class\n",
      "WordCountReducer.java\n",
      "wc.jar\n"
     ]
    }
   ],
   "source": [
    "%%dockerexec hadoop\n",
    "\n",
    "source /opt/envvars.sh\n",
    "\n",
    "cd /opt/src/wc_java\n",
    "\n",
    "# compile source code and create jar file\n",
    "javac -classpath `hadoop classpath` *.java\n",
    "jar cvf wc.jar *.class\n",
    "ls"
   ]
  },
  {
   "cell_type": "code",
   "execution_count": 11,
   "metadata": {},
   "outputs": [
    {
     "name": "stdout",
     "output_type": "stream",
     "text": [
      "/opt\n",
      "Found 1 items\n",
      "-rw-r--r--   2 hadoop hadoop      5.4 M 2023-12-15 15:41 shakespeare/shakespeare.txt\n"
     ]
    }
   ],
   "source": [
    "%%dockerexec hadoop\n",
    "\n",
    "source /opt/envvars.sh\n",
    "\n",
    "# download book \"The Complete Works of William Shakespeare, by William Shakespeare\" from Gutenberg Project\n",
    "wget -q -c http://www.gutenberg.org/files/100/100-0.txt -O shakespeare.txt\n",
    "\n",
    "# create directory in HDFS and put file\n",
    "hdfs dfs -mkdir shakespeare\n",
    "hdfs dfs -put shakespeare.txt shakespeare\n",
    "hdfs dfs -ls -h shakespeare"
   ]
  },
  {
   "cell_type": "code",
   "execution_count": 12,
   "metadata": {},
   "outputs": [
    {
     "name": "stdout",
     "output_type": "stream",
     "text": [
      "2023-12-15 15:42:30,805 INFO client.DefaultNoHARMFailoverProxyProvider: Connecting to ResourceManager at hadoop/172.18.0.5:8032\n",
      "2023-12-15 15:42:30,915 INFO client.AHSProxy: Connecting to Application History server at hadoop/172.18.0.5:10200\n",
      "2023-12-15 15:42:31,128 INFO mapreduce.JobResourceUploader: Disabling Erasure Coding for path: /tmp/hadoop-yarn/staging/hadoop/.staging/job_1702665413412_0001\n",
      "2023-12-15 15:42:31,897 INFO input.FileInputFormat: Total input files to process : 1\n",
      "2023-12-15 15:42:31,997 INFO mapreduce.JobSubmitter: number of splits:1\n",
      "2023-12-15 15:42:32,285 INFO mapreduce.JobSubmitter: Submitting tokens for job: job_1702665413412_0001\n",
      "2023-12-15 15:42:32,286 INFO mapreduce.JobSubmitter: Executing with tokens: []\n",
      "2023-12-15 15:42:32,404 INFO conf.Configuration: resource-types.xml not found\n",
      "2023-12-15 15:42:32,405 INFO resource.ResourceUtils: Unable to find 'resource-types.xml'.\n",
      "2023-12-15 15:42:32,625 INFO impl.YarnClientImpl: Submitted application application_1702665413412_0001\n",
      "2023-12-15 15:42:32,672 INFO mapreduce.Job: The url to track the job: http://hadoop:8088/proxy/application_1702665413412_0001/\n",
      "2023-12-15 15:42:32,673 INFO mapreduce.Job: Running job: job_1702665413412_0001\n"
     ]
    }
   ],
   "source": [
    "%%dockerexec hadoop\n",
    "\n",
    "source /opt/envvars.sh\n",
    "\n",
    "cd /opt/src/wc_java\n",
    "\n",
    "# run wordcount using 2 reducers\n",
    "hadoop jar wc.jar WordCountDriver -D mapreduce.job.reduces=2 shakespeare shakespeare-output"
   ]
  },
  {
   "cell_type": "code",
   "execution_count": null,
   "metadata": {},
   "outputs": [],
   "source": [
    "%%dockerexec hadoop\n",
    "\n",
    "source /opt/envvars.sh\n",
    "\n",
    "# check output files\n",
    "hdfs dfs -ls shakespeare-output\n",
    "\n",
    "# get output from HDFS\n",
    "hdfs dfs -getmerge shakespeare-output shakespeare-output.txt\n",
    "\n",
    "# head shakespeare-output.txt\n",
    "head shakespeare-output.txt"
   ]
  },
  {
   "cell_type": "markdown",
   "metadata": {},
   "source": [
    "## Hadoop Streaming"
   ]
  },
  {
   "cell_type": "code",
   "execution_count": null,
   "metadata": {},
   "outputs": [],
   "source": [
    "%%dockerexec hadoop\n",
    "\n",
    "mkdir /opt/src/wc_streaming\n",
    "\n",
    "cat <<EOF > /opt/src/wc_streaming/wordmapper.py\n",
    "#!/usr/bin/env python3\n",
    "# wordmapper.py\n",
    "\n",
    "import sys\n",
    "for line in sys.stdin:\n",
    "  line = line.strip()\n",
    "  words = line.split()\n",
    "  for word in words:\n",
    "   print('%s\\t%s' % (word, 1))\n",
    "EOF"
   ]
  },
  {
   "cell_type": "code",
   "execution_count": null,
   "metadata": {},
   "outputs": [],
   "source": [
    "%%dockerexec hadoop\n",
    "\n",
    "cat <<EOF > /opt/src/wc_streaming/wordreducer.py\n",
    "#!/usr/bin/env python3\n",
    "# wordreducer.py\n",
    "\n",
    "import sys\n",
    "\n",
    "thisword = None\n",
    "wordcount = 0\n",
    "word = None\n",
    "\n",
    "for line in sys.stdin:\n",
    "    line = line.strip()\n",
    "    word, count = line.split('\\t', 1)\n",
    "    count = int(count)\n",
    "\n",
    "    if thisword == word:\n",
    "        wordcount += count\n",
    "    else:\n",
    "        if thisword:\n",
    "            print('%s\\t%d' % (thisword, wordcount))\n",
    "        wordcount = count\n",
    "        thisword = word\n",
    "\n",
    "if thisword == word:\n",
    "    print('%s\\t%d' % (thisword, wordcount))\n",
    "EOF"
   ]
  },
  {
   "cell_type": "code",
   "execution_count": null,
   "metadata": {},
   "outputs": [],
   "source": [
    "%%dockerexec hadoop\n",
    "\n",
    "# download book \"Ulysses, by James Joyce\" from Gutenberg Project\n",
    "wget -q -c http://www.gutenberg.org/files/4300/4300-0.txt -O ulysses.txt\n",
    "    \n",
    "# create directory in HDFS and put file\n",
    "hdfs dfs -mkdir ulysses\n",
    "hdfs dfs -put ulysses.txt ulysses\n",
    "hdfs dfs -ls -h ulysses"
   ]
  },
  {
   "cell_type": "code",
   "execution_count": null,
   "metadata": {},
   "outputs": [],
   "source": [
    "%%dockerexec hadoop\n",
    "\n",
    "source /opt/envvars.sh\n",
    "\n",
    "cd /opt/src/wc_streaming\n",
    "\n",
    "# execute using Hadoop Streaming\n",
    "hadoop jar \\\n",
    "$HADOOP_HOME/share/hadoop/tools/lib/hadoop-streaming-3.2.2.jar \\\n",
    "-input ulysses \\\n",
    "-output ulysses-output \\\n",
    "-mapper wordmapper.py \\\n",
    "-reducer wordreducer.py \\\n",
    "-file wordmapper.py \\\n",
    "-file wordreducer.py"
   ]
  },
  {
   "cell_type": "code",
   "execution_count": null,
   "metadata": {},
   "outputs": [],
   "source": [
    "%%dockerexec hadoop\n",
    "\n",
    "source /opt/envvars.sh\n",
    "\n",
    "# check output files\n",
    "hdfs dfs -ls ulysses-output\n",
    "\n",
    "# get output from HDFS\n",
    "hdfs dfs -getmerge ulysses-output ulysses-output.txt\n",
    "\n",
    "# head output\n",
    "head ulysses-output.txt"
   ]
  }
 ],
 "metadata": {
  "kernelspec": {
   "display_name": "Python 3",
   "language": "python",
   "name": "python3"
  },
  "language_info": {
   "codemirror_mode": {
    "name": "ipython",
    "version": 3
   },
   "file_extension": ".py",
   "mimetype": "text/x-python",
   "name": "python",
   "nbconvert_exporter": "python",
   "pygments_lexer": "ipython3",
   "version": "3.9.7"
  }
 },
 "nbformat": 4,
 "nbformat_minor": 4
}
